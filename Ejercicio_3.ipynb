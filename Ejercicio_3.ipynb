{
  "nbformat": 4,
  "nbformat_minor": 0,
  "metadata": {
    "colab": {
      "provenance": [],
      "include_colab_link": true
    },
    "kernelspec": {
      "name": "python3",
      "display_name": "Python 3"
    },
    "language_info": {
      "name": "python"
    }
  },
  "cells": [
    {
      "cell_type": "markdown",
      "metadata": {
        "id": "view-in-github",
        "colab_type": "text"
      },
      "source": [
        "<a href=\"https://colab.research.google.com/github/ReginaFierro2000/Visualizacion/blob/main/Ejercicio_3.ipynb\" target=\"_parent\"><img src=\"https://colab.research.google.com/assets/colab-badge.svg\" alt=\"Open In Colab\"/></a>"
      ]
    },
    {
      "cell_type": "code",
      "execution_count": 1,
      "metadata": {
        "id": "oXJ25awk7AgN"
      },
      "outputs": [],
      "source": [
        "import numpy as np\n",
        "import pandas as pd\n",
        "import matplotlib.pyplot as plt\n",
        "import seaborn as sns"
      ]
    },
    {
      "cell_type": "markdown",
      "source": [
        "# Ejercicio 3\n",
        "## Comparando Variables Categoricas\n",
        "\n",
        "Para este ejercicio, vamos a utilizar datos de propinas. En particular, cuanto recibio cada día de la semana y por quién."
      ],
      "metadata": {
        "id": "hLERuNem7C0c"
      }
    },
    {
      "cell_type": "code",
      "source": [
        "data = sns.load_dataset(\"tips\")\n",
        "data.head()"
      ],
      "metadata": {
        "colab": {
          "base_uri": "https://localhost:8080/",
          "height": 206
        },
        "id": "8Ly2MjYI8-Hq",
        "outputId": "f3ff5d13-1515-444d-f2e5-7cdfb6f73fcf"
      },
      "execution_count": 2,
      "outputs": [
        {
          "output_type": "execute_result",
          "data": {
            "text/plain": [
              "   total_bill   tip     sex smoker  day    time  size\n",
              "0       16.99  1.01  Female     No  Sun  Dinner     2\n",
              "1       10.34  1.66    Male     No  Sun  Dinner     3\n",
              "2       21.01  3.50    Male     No  Sun  Dinner     3\n",
              "3       23.68  3.31    Male     No  Sun  Dinner     2\n",
              "4       24.59  3.61  Female     No  Sun  Dinner     4"
            ],
            "text/html": [
              "\n",
              "  <div id=\"df-1577499f-eb47-4014-80c5-dbcea9ade20d\">\n",
              "    <div class=\"colab-df-container\">\n",
              "      <div>\n",
              "<style scoped>\n",
              "    .dataframe tbody tr th:only-of-type {\n",
              "        vertical-align: middle;\n",
              "    }\n",
              "\n",
              "    .dataframe tbody tr th {\n",
              "        vertical-align: top;\n",
              "    }\n",
              "\n",
              "    .dataframe thead th {\n",
              "        text-align: right;\n",
              "    }\n",
              "</style>\n",
              "<table border=\"1\" class=\"dataframe\">\n",
              "  <thead>\n",
              "    <tr style=\"text-align: right;\">\n",
              "      <th></th>\n",
              "      <th>total_bill</th>\n",
              "      <th>tip</th>\n",
              "      <th>sex</th>\n",
              "      <th>smoker</th>\n",
              "      <th>day</th>\n",
              "      <th>time</th>\n",
              "      <th>size</th>\n",
              "    </tr>\n",
              "  </thead>\n",
              "  <tbody>\n",
              "    <tr>\n",
              "      <th>0</th>\n",
              "      <td>16.99</td>\n",
              "      <td>1.01</td>\n",
              "      <td>Female</td>\n",
              "      <td>No</td>\n",
              "      <td>Sun</td>\n",
              "      <td>Dinner</td>\n",
              "      <td>2</td>\n",
              "    </tr>\n",
              "    <tr>\n",
              "      <th>1</th>\n",
              "      <td>10.34</td>\n",
              "      <td>1.66</td>\n",
              "      <td>Male</td>\n",
              "      <td>No</td>\n",
              "      <td>Sun</td>\n",
              "      <td>Dinner</td>\n",
              "      <td>3</td>\n",
              "    </tr>\n",
              "    <tr>\n",
              "      <th>2</th>\n",
              "      <td>21.01</td>\n",
              "      <td>3.50</td>\n",
              "      <td>Male</td>\n",
              "      <td>No</td>\n",
              "      <td>Sun</td>\n",
              "      <td>Dinner</td>\n",
              "      <td>3</td>\n",
              "    </tr>\n",
              "    <tr>\n",
              "      <th>3</th>\n",
              "      <td>23.68</td>\n",
              "      <td>3.31</td>\n",
              "      <td>Male</td>\n",
              "      <td>No</td>\n",
              "      <td>Sun</td>\n",
              "      <td>Dinner</td>\n",
              "      <td>2</td>\n",
              "    </tr>\n",
              "    <tr>\n",
              "      <th>4</th>\n",
              "      <td>24.59</td>\n",
              "      <td>3.61</td>\n",
              "      <td>Female</td>\n",
              "      <td>No</td>\n",
              "      <td>Sun</td>\n",
              "      <td>Dinner</td>\n",
              "      <td>4</td>\n",
              "    </tr>\n",
              "  </tbody>\n",
              "</table>\n",
              "</div>\n",
              "      <button class=\"colab-df-convert\" onclick=\"convertToInteractive('df-1577499f-eb47-4014-80c5-dbcea9ade20d')\"\n",
              "              title=\"Convert this dataframe to an interactive table.\"\n",
              "              style=\"display:none;\">\n",
              "        \n",
              "  <svg xmlns=\"http://www.w3.org/2000/svg\" height=\"24px\"viewBox=\"0 0 24 24\"\n",
              "       width=\"24px\">\n",
              "    <path d=\"M0 0h24v24H0V0z\" fill=\"none\"/>\n",
              "    <path d=\"M18.56 5.44l.94 2.06.94-2.06 2.06-.94-2.06-.94-.94-2.06-.94 2.06-2.06.94zm-11 1L8.5 8.5l.94-2.06 2.06-.94-2.06-.94L8.5 2.5l-.94 2.06-2.06.94zm10 10l.94 2.06.94-2.06 2.06-.94-2.06-.94-.94-2.06-.94 2.06-2.06.94z\"/><path d=\"M17.41 7.96l-1.37-1.37c-.4-.4-.92-.59-1.43-.59-.52 0-1.04.2-1.43.59L10.3 9.45l-7.72 7.72c-.78.78-.78 2.05 0 2.83L4 21.41c.39.39.9.59 1.41.59.51 0 1.02-.2 1.41-.59l7.78-7.78 2.81-2.81c.8-.78.8-2.07 0-2.86zM5.41 20L4 18.59l7.72-7.72 1.47 1.35L5.41 20z\"/>\n",
              "  </svg>\n",
              "      </button>\n",
              "      \n",
              "  <style>\n",
              "    .colab-df-container {\n",
              "      display:flex;\n",
              "      flex-wrap:wrap;\n",
              "      gap: 12px;\n",
              "    }\n",
              "\n",
              "    .colab-df-convert {\n",
              "      background-color: #E8F0FE;\n",
              "      border: none;\n",
              "      border-radius: 50%;\n",
              "      cursor: pointer;\n",
              "      display: none;\n",
              "      fill: #1967D2;\n",
              "      height: 32px;\n",
              "      padding: 0 0 0 0;\n",
              "      width: 32px;\n",
              "    }\n",
              "\n",
              "    .colab-df-convert:hover {\n",
              "      background-color: #E2EBFA;\n",
              "      box-shadow: 0px 1px 2px rgba(60, 64, 67, 0.3), 0px 1px 3px 1px rgba(60, 64, 67, 0.15);\n",
              "      fill: #174EA6;\n",
              "    }\n",
              "\n",
              "    [theme=dark] .colab-df-convert {\n",
              "      background-color: #3B4455;\n",
              "      fill: #D2E3FC;\n",
              "    }\n",
              "\n",
              "    [theme=dark] .colab-df-convert:hover {\n",
              "      background-color: #434B5C;\n",
              "      box-shadow: 0px 1px 3px 1px rgba(0, 0, 0, 0.15);\n",
              "      filter: drop-shadow(0px 1px 2px rgba(0, 0, 0, 0.3));\n",
              "      fill: #FFFFFF;\n",
              "    }\n",
              "  </style>\n",
              "\n",
              "      <script>\n",
              "        const buttonEl =\n",
              "          document.querySelector('#df-1577499f-eb47-4014-80c5-dbcea9ade20d button.colab-df-convert');\n",
              "        buttonEl.style.display =\n",
              "          google.colab.kernel.accessAllowed ? 'block' : 'none';\n",
              "\n",
              "        async function convertToInteractive(key) {\n",
              "          const element = document.querySelector('#df-1577499f-eb47-4014-80c5-dbcea9ade20d');\n",
              "          const dataTable =\n",
              "            await google.colab.kernel.invokeFunction('convertToInteractive',\n",
              "                                                     [key], {});\n",
              "          if (!dataTable) return;\n",
              "\n",
              "          const docLinkHtml = 'Like what you see? Visit the ' +\n",
              "            '<a target=\"_blank\" href=https://colab.research.google.com/notebooks/data_table.ipynb>data table notebook</a>'\n",
              "            + ' to learn more about interactive tables.';\n",
              "          element.innerHTML = '';\n",
              "          dataTable['output_type'] = 'display_data';\n",
              "          await google.colab.output.renderOutput(dataTable, element);\n",
              "          const docLink = document.createElement('div');\n",
              "          docLink.innerHTML = docLinkHtml;\n",
              "          element.appendChild(docLink);\n",
              "        }\n",
              "      </script>\n",
              "    </div>\n",
              "  </div>\n",
              "  "
            ]
          },
          "metadata": {},
          "execution_count": 2
        }
      ]
    },
    {
      "cell_type": "code",
      "source": [
        "males = data[data[\"sex\"]==\"Male\"]\\\n",
        "          .groupby(\"day\")[\"tip\"].sum().reset_index()\n",
        "females = data[data[\"sex\"]==\"Female\"]\\\n",
        "          .groupby(\"day\")[\"tip\"].sum().reset_index()\n",
        "\n",
        "females"
      ],
      "metadata": {
        "colab": {
          "base_uri": "https://localhost:8080/",
          "height": 175
        },
        "id": "hgT7vgdr-Zfj",
        "outputId": "924fbe0a-4840-4096-c47c-8b0e518168ec"
      },
      "execution_count": 3,
      "outputs": [
        {
          "output_type": "execute_result",
          "data": {
            "text/plain": [
              "    day    tip\n",
              "0  Thur  82.42\n",
              "1   Fri  25.03\n",
              "2   Sat  78.45\n",
              "3   Sun  60.61"
            ],
            "text/html": [
              "\n",
              "  <div id=\"df-d5e98b0e-0e3d-401a-b0af-4d97786b7a23\">\n",
              "    <div class=\"colab-df-container\">\n",
              "      <div>\n",
              "<style scoped>\n",
              "    .dataframe tbody tr th:only-of-type {\n",
              "        vertical-align: middle;\n",
              "    }\n",
              "\n",
              "    .dataframe tbody tr th {\n",
              "        vertical-align: top;\n",
              "    }\n",
              "\n",
              "    .dataframe thead th {\n",
              "        text-align: right;\n",
              "    }\n",
              "</style>\n",
              "<table border=\"1\" class=\"dataframe\">\n",
              "  <thead>\n",
              "    <tr style=\"text-align: right;\">\n",
              "      <th></th>\n",
              "      <th>day</th>\n",
              "      <th>tip</th>\n",
              "    </tr>\n",
              "  </thead>\n",
              "  <tbody>\n",
              "    <tr>\n",
              "      <th>0</th>\n",
              "      <td>Thur</td>\n",
              "      <td>82.42</td>\n",
              "    </tr>\n",
              "    <tr>\n",
              "      <th>1</th>\n",
              "      <td>Fri</td>\n",
              "      <td>25.03</td>\n",
              "    </tr>\n",
              "    <tr>\n",
              "      <th>2</th>\n",
              "      <td>Sat</td>\n",
              "      <td>78.45</td>\n",
              "    </tr>\n",
              "    <tr>\n",
              "      <th>3</th>\n",
              "      <td>Sun</td>\n",
              "      <td>60.61</td>\n",
              "    </tr>\n",
              "  </tbody>\n",
              "</table>\n",
              "</div>\n",
              "      <button class=\"colab-df-convert\" onclick=\"convertToInteractive('df-d5e98b0e-0e3d-401a-b0af-4d97786b7a23')\"\n",
              "              title=\"Convert this dataframe to an interactive table.\"\n",
              "              style=\"display:none;\">\n",
              "        \n",
              "  <svg xmlns=\"http://www.w3.org/2000/svg\" height=\"24px\"viewBox=\"0 0 24 24\"\n",
              "       width=\"24px\">\n",
              "    <path d=\"M0 0h24v24H0V0z\" fill=\"none\"/>\n",
              "    <path d=\"M18.56 5.44l.94 2.06.94-2.06 2.06-.94-2.06-.94-.94-2.06-.94 2.06-2.06.94zm-11 1L8.5 8.5l.94-2.06 2.06-.94-2.06-.94L8.5 2.5l-.94 2.06-2.06.94zm10 10l.94 2.06.94-2.06 2.06-.94-2.06-.94-.94-2.06-.94 2.06-2.06.94z\"/><path d=\"M17.41 7.96l-1.37-1.37c-.4-.4-.92-.59-1.43-.59-.52 0-1.04.2-1.43.59L10.3 9.45l-7.72 7.72c-.78.78-.78 2.05 0 2.83L4 21.41c.39.39.9.59 1.41.59.51 0 1.02-.2 1.41-.59l7.78-7.78 2.81-2.81c.8-.78.8-2.07 0-2.86zM5.41 20L4 18.59l7.72-7.72 1.47 1.35L5.41 20z\"/>\n",
              "  </svg>\n",
              "      </button>\n",
              "      \n",
              "  <style>\n",
              "    .colab-df-container {\n",
              "      display:flex;\n",
              "      flex-wrap:wrap;\n",
              "      gap: 12px;\n",
              "    }\n",
              "\n",
              "    .colab-df-convert {\n",
              "      background-color: #E8F0FE;\n",
              "      border: none;\n",
              "      border-radius: 50%;\n",
              "      cursor: pointer;\n",
              "      display: none;\n",
              "      fill: #1967D2;\n",
              "      height: 32px;\n",
              "      padding: 0 0 0 0;\n",
              "      width: 32px;\n",
              "    }\n",
              "\n",
              "    .colab-df-convert:hover {\n",
              "      background-color: #E2EBFA;\n",
              "      box-shadow: 0px 1px 2px rgba(60, 64, 67, 0.3), 0px 1px 3px 1px rgba(60, 64, 67, 0.15);\n",
              "      fill: #174EA6;\n",
              "    }\n",
              "\n",
              "    [theme=dark] .colab-df-convert {\n",
              "      background-color: #3B4455;\n",
              "      fill: #D2E3FC;\n",
              "    }\n",
              "\n",
              "    [theme=dark] .colab-df-convert:hover {\n",
              "      background-color: #434B5C;\n",
              "      box-shadow: 0px 1px 3px 1px rgba(0, 0, 0, 0.15);\n",
              "      filter: drop-shadow(0px 1px 2px rgba(0, 0, 0, 0.3));\n",
              "      fill: #FFFFFF;\n",
              "    }\n",
              "  </style>\n",
              "\n",
              "      <script>\n",
              "        const buttonEl =\n",
              "          document.querySelector('#df-d5e98b0e-0e3d-401a-b0af-4d97786b7a23 button.colab-df-convert');\n",
              "        buttonEl.style.display =\n",
              "          google.colab.kernel.accessAllowed ? 'block' : 'none';\n",
              "\n",
              "        async function convertToInteractive(key) {\n",
              "          const element = document.querySelector('#df-d5e98b0e-0e3d-401a-b0af-4d97786b7a23');\n",
              "          const dataTable =\n",
              "            await google.colab.kernel.invokeFunction('convertToInteractive',\n",
              "                                                     [key], {});\n",
              "          if (!dataTable) return;\n",
              "\n",
              "          const docLinkHtml = 'Like what you see? Visit the ' +\n",
              "            '<a target=\"_blank\" href=https://colab.research.google.com/notebooks/data_table.ipynb>data table notebook</a>'\n",
              "            + ' to learn more about interactive tables.';\n",
              "          element.innerHTML = '';\n",
              "          dataTable['output_type'] = 'display_data';\n",
              "          await google.colab.output.renderOutput(dataTable, element);\n",
              "          const docLink = document.createElement('div');\n",
              "          docLink.innerHTML = docLinkHtml;\n",
              "          element.appendChild(docLink);\n",
              "        }\n",
              "      </script>\n",
              "    </div>\n",
              "  </div>\n",
              "  "
            ]
          },
          "metadata": {},
          "execution_count": 3
        }
      ]
    },
    {
      "cell_type": "markdown",
      "source": [
        "¡Recuerda, a partir de ahora, siempre agregar títulos adecuados y otros elementos que den claridad a tus gráficos!\n",
        "\n",
        "### 1. Haz un gráfico de barras apilado. En el eje X, pon el día de la semana, y en el eje Y, las propinas. "
      ],
      "metadata": {
        "id": "w90FhBCbCC8E"
      }
    },
    {
      "cell_type": "code",
      "source": [
        "plt.bar(males[\"day\"], males[\"tip\"])\n",
        "plt.bar(females[\"day\"], females[\"tip\"], bottom=males[\"tip\"])\n",
        "plt.show()"
      ],
      "metadata": {
        "id": "czR_w92d_YCW",
        "colab": {
          "base_uri": "https://localhost:8080/",
          "height": 265
        },
        "outputId": "6a46c2cc-6fa5-4570-d7f5-2a1ccc9eef4e"
      },
      "execution_count": 4,
      "outputs": [
        {
          "output_type": "display_data",
          "data": {
            "text/plain": [
              "<Figure size 432x288 with 1 Axes>"
            ],
            "image/png": "[encoded data removed]"
          },
          "metadata": {
            "needs_background": "light"
          }
        }
      ]
    },
    {
      "cell_type": "markdown",
      "source": [
        "2. Repite el el gráfico anterior, pero esta vez, investiga cómo se hace y cambia los colores default por otros."
      ],
      "metadata": {
        "id": "ez2mKC3oXF4Q"
      }
    },
    {
      "cell_type": "code",
      "source": [
        "plt.bar(males[\"day\"], males[\"tip\"], color = \"#17becf\")\n",
        "plt.bar(females[\"day\"], females[\"tip\"], bottom=males[\"tip\"], color = \"#e377c2\")\n",
        "#['#1f77b4', '#ff7f0e', '#2ca02c', '#d62728', '#9467bd', '#8c564b', '#e377c2','#7f7f7f', '#bcbd22', '#17becf']\n",
        "plt.show()"
      ],
      "metadata": {
        "id": "oX9j_j26Wom-",
        "colab": {
          "base_uri": "https://localhost:8080/",
          "height": 265
        },
        "outputId": "6a2c53e2-2324-4387-cc51-174660ff9836"
      },
      "execution_count": 5,
      "outputs": [
        {
          "output_type": "display_data",
          "data": {
            "text/plain": [
              "<Figure size 432x288 with 1 Axes>"
            ],
            "image/png": "[encoded data removed]"
          },
          "metadata": {
            "needs_background": "light"
          }
        }
      ]
    },
    {
      "cell_type": "markdown",
      "source": [
        "3. Usa los colores del ejercicio anterior, pero esta vez, usa los datos en porcentaje y genera un gráfico de barras."
      ],
      "metadata": {
        "id": "bTzzakRGXRzb"
      }
    },
    {
      "cell_type": "code",
      "source": [
        "from pandas.core.tools.times import time\n",
        "males = data[data[\"sex\"]==\"Male\"]\\\n",
        "        [\"tip\"].sum()\n",
        "females = data[data[\"sex\"]==\"Female\"]\\\n",
        "        [\"tip\"].sum()\n",
        "day = data[\"day\"]\n",
        "\n",
        "males , females = np.array(males) , np.array(females)\n",
        "\n",
        "males_p = males / (males+females)\n",
        "females_p = females / (males+females)\n",
        "\n",
        "plt.title(\"Ganancias semanales entre hombres y mujeres\")\n",
        "plt.xlabel(\"Semana\")\n",
        "plt.ylabel(\"Porcentaje\")\n",
        "\n",
        "plt.bar(day,males_p, color = \"#17becf\")\n",
        "plt.bar(day,females_p, color = \"#e377c2\")\n",
        "plt.legend([\"males\", \"females\"])\n",
        "\n",
        "plt.show()"
      ],
      "metadata": {
        "id": "gFj1cYMlXiJX",
        "colab": {
          "base_uri": "https://localhost:8080/",
          "height": 295
        },
        "outputId": "a0eb48e2-0c79-4288-90f1-ec2dc121d7c2"
      },
      "execution_count": 37,
      "outputs": [
        {
          "output_type": "display_data",
          "data": {
            "text/plain": [
              "<Figure size 432x288 with 1 Axes>"
            ],
            "image/png": "[encoded data removed]"
          },
          "metadata": {
            "needs_background": "light"
          }
        }
      ]
    },
    {
      "cell_type": "code",
      "source": [
        "total_bill= data[\"total_bill\"]\n",
        "tip = data[\"tip\"]\n",
        "day = data[\"day\"]\n",
        "\n",
        "total_bill , tip = np.array(total_bill), np.array(tip)\n",
        "\n",
        "total_bill_p = total_bill / (total_bill+tip)\n",
        "tip_p = tip / (total_bill+tip)\n",
        "\n",
        "plt.bar(day, total_bill_p)\n",
        "plt.bar(day, tip_p)\n",
        "plt.show()"
      ],
      "metadata": {
        "colab": {
          "base_uri": "https://localhost:8080/",
          "height": 266
        },
        "id": "MyuqK0tm15Uj",
        "outputId": "157b4cc7-c222-4d74-dc6c-fb0392af597c"
      },
      "execution_count": 38,
      "outputs": [
        {
          "output_type": "display_data",
          "data": {
            "text/plain": [
              "<Figure size 432x288 with 1 Axes>"
            ],
            "image/png": "[encoded data removed]"
          },
          "metadata": {
            "needs_background": "light"
          }
        }
      ]
    },
    {
      "cell_type": "markdown",
      "source": [
        "4. Genera un gráfico de área para representar los datos anteriores. Usa los dos mismos colores que haz usado en los ejercicios anteriores."
      ],
      "metadata": {
        "id": "mGuFF47WXiti"
      }
    },
    {
      "cell_type": "code",
      "source": [
        "plt.stackplot(day, males_p, females_p)\n",
        "\n",
        "plt.title(\"Ganancias semanales entre hombres y mujeres\")\n",
        "plt.xlabel(\"Semana\")\n",
        "plt.ylabel(\"Porcentaje\")\n",
        "\n",
        "plt.legend([\"males\", \"females\"])\n",
        "\n",
        "plt.show()"
      ],
      "metadata": {
        "id": "-1ULaAq1XnIK",
        "colab": {
          "base_uri": "https://localhost:8080/",
          "height": 295
        },
        "outputId": "1212ab4e-896c-4abe-9be4-6d20c07fe834"
      },
      "execution_count": 39,
      "outputs": [
        {
          "output_type": "display_data",
          "data": {
            "text/plain": [
              "<Figure size 432x288 with 1 Axes>"
            ],
            "image/png": "[encoded data removed]"
          },
          "metadata": {
            "needs_background": "light"
          }
        }
      ]
    },
    {
      "cell_type": "markdown",
      "source": [
        "5. Suma los datos de _males_ y _females_ para tener las propinas totales por día de la semana. Genera un gráfico de waffle para representar esa data. En vez de cuadros, usa alguna otra forma.\n",
        "\n",
        "Tip: puedes consultar https://fontawesome.com/search para ver formas que puedes usar."
      ],
      "metadata": {
        "id": "xvCIWRYMXn1G"
      }
    },
    {
      "cell_type": "code",
      "source": [
        "!pip install pywaffle"
      ],
      "metadata": {
        "id": "gK-iHg9BYu7U",
        "colab": {
          "base_uri": "https://localhost:8080/"
        },
        "outputId": "c8a3bf4d-87ab-46aa-97e9-0e3156cc9484"
      },
      "execution_count": 9,
      "outputs": [
        {
          "output_type": "stream",
          "name": "stdout",
          "text": [
            "Looking in indexes: https://pypi.org/simple, https://us-python.pkg.dev/colab-wheels/public/simple/\n",
            "Collecting pywaffle\n",
            "  Downloading pywaffle-1.1.0-py2.py3-none-any.whl (30 kB)\n",
            "Collecting fontawesomefree\n",
            "  Downloading fontawesomefree-6.3.0-py3-none-any.whl (31.4 MB)\n",
            "\u001b[2K     \u001b[90m━━━━━━━━━━━━━━━━━━━━━━━━━━━━━━━━━━━━━━━━\u001b[0m \u001b[32m31.4/31.4 MB\u001b[0m \u001b[31m45.6 MB/s\u001b[0m eta \u001b[36m0:00:00\u001b[0m\n",
            "\u001b[?25hRequirement already satisfied: matplotlib in /usr/local/lib/python3.8/dist-packages (from pywaffle) (3.2.2)\n",
            "Requirement already satisfied: cycler>=0.10 in /usr/local/lib/python3.8/dist-packages (from matplotlib->pywaffle) (0.11.0)\n",
            "Requirement already satisfied: pyparsing!=2.0.4,!=2.1.2,!=2.1.6,>=2.0.1 in /usr/local/lib/python3.8/dist-packages (from matplotlib->pywaffle) (3.0.9)\n",
            "Requirement already satisfied: python-dateutil>=2.1 in /usr/local/lib/python3.8/dist-packages (from matplotlib->pywaffle) (2.8.2)\n",
            "Requirement already satisfied: kiwisolver>=1.0.1 in /usr/local/lib/python3.8/dist-packages (from matplotlib->pywaffle) (1.4.4)\n",
            "Requirement already satisfied: numpy>=1.11 in /usr/local/lib/python3.8/dist-packages (from matplotlib->pywaffle) (1.21.6)\n",
            "Requirement already satisfied: six>=1.5 in /usr/local/lib/python3.8/dist-packages (from python-dateutil>=2.1->matplotlib->pywaffle) (1.15.0)\n",
            "Installing collected packages: fontawesomefree, pywaffle\n",
            "Successfully installed fontawesomefree-6.3.0 pywaffle-1.1.0\n"
          ]
        }
      ]
    },
    {
      "cell_type": "code",
      "source": [
        "from pywaffle import Waffle"
      ],
      "metadata": {
        "id": "DondEVLg5lh4"
      },
      "execution_count": 10,
      "outputs": []
    },
    {
      "cell_type": "code",
      "source": [
        "#males_t = data[data[\"sex\"]==\"Male\"]\\\n",
        "#          .groupby(\"day\")[\"total_bill\"].sum().reset_index()\n",
        "#females_t = data[data[\"sex\"]==\"Female\"]\\\n",
        "#          .groupby(\"day\")[\"total_bill\"].sum().reset_index()\n",
        "\n",
        "males_t = data[data[\"sex\"]==\"Male\"]\\\n",
        "          [\"total_bill\"].sum()\n",
        "females_t = data[data[\"sex\"]==\"Female\"]\\\n",
        "          [\"total_bill\"].sum()\n",
        "\n",
        "print(males_t)\n",
        "print(females_t)\n",
        "\n",
        "males_t , females_t = np.array(males_t), np.array(females_t)\n",
        "\n",
        "valores = [males_t,females_t]\n",
        "\n",
        "# Waffle chart\n",
        "plt.figure(\n",
        "    FigureClass = Waffle,\n",
        "    rows = 50,\n",
        "    values = valores,\n",
        "    colors=(\"green\", \"purple\"),\n",
        "    legend={\"loc\":\"upper center\"},\n",
        "    icons = 'earth') \n",
        "\n",
        "plt.title(\"Total de propinas de hombre y mujeres durante la semana\")\n",
        "plt.show() \n",
        "\n",
        "#Tomando algunos valores para visualizar el icono\n",
        "v = {\"males\": 50, \"females\" : 25}\n",
        "\n",
        "plt.figure(\n",
        "    FigureClass = Waffle,\n",
        "    rows = 15,\n",
        "    values = v,\n",
        "    colors=(\"green\", \"purple\"),\n",
        "    legend={\"loc\":\"upper center\"},\n",
        "    icons = 'earth',icon_size=12) \n",
        "\n",
        "#plt.title(\"\")\n",
        "plt.show() \n"
      ],
      "metadata": {
        "colab": {
          "base_uri": "https://localhost:8080/",
          "height": 563
        },
        "id": "JJEbO-M45pth",
        "outputId": "3961b4e4-0665-4759-f691-bec3758a25f8"
      },
      "execution_count": 43,
      "outputs": [
        {
          "output_type": "stream",
          "name": "stdout",
          "text": [
            "3256.8199999999997\n",
            "1570.9499999999996\n"
          ]
        },
        {
          "output_type": "display_data",
          "data": {
            "text/plain": [
              "<Waffle size 432x288 with 1 Axes>"
            ],
            "image/png": "[encoded data removed]"
          },
          "metadata": {
            "needs_background": "light"
          }
        },
        {
          "output_type": "display_data",
          "data": {
            "text/plain": [
              "<Waffle size 432x288 with 1 Axes>"
            ],
            "image/png": "[encoded data removed]"
          },
          "metadata": {
            "needs_background": "light"
          }
        }
      ]
    }
  ]
}