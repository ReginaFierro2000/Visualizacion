{
  "nbformat": 4,
  "nbformat_minor": 0,
  "metadata": {
    "colab": {
      "provenance": [],
      "authorship_tag": "ABX9TyNu/ugcVe8Q3fzhs124VZ+8",
      "include_colab_link": true
    },
    "kernelspec": {
      "name": "python3",
      "display_name": "Python 3"
    },
    "language_info": {
      "name": "python"
    }
  },
  "cells": [
    {
      "cell_type": "markdown",
      "metadata": {
        "id": "view-in-github",
        "colab_type": "text"
      },
      "source": [
        "<a href=\"https://colab.research.google.com/github/robertoarturomc/Visualizacion/blob/main/Ejercicio_1.ipynb\" target=\"_parent\"><img src=\"https://colab.research.google.com/assets/colab-badge.svg\" alt=\"Open In Colab\"/></a>"
      ]
    },
    {
      "cell_type": "code",
      "execution_count": 2,
      "metadata": {
        "id": "0U-fZhzVWtvi"
      },
      "outputs": [],
      "source": [
        "import pandas as pd"
      ]
    },
    {
      "cell_type": "markdown",
      "source": [
        "# Ejercicio 1\n",
        "## Principios de Diseño de Informacion"
      ],
      "metadata": {
        "id": "qQduneUIWx7b"
      }
    },
    {
      "cell_type": "code",
      "source": [
        "df = pd.read_csv(\"https://gist.githubusercontent.com/armgilles/194bcff35001e7eb53a2a8b441e8b2c6/raw/92200bc0a673d5ce2110aaad4544ed6c4010f687/pokemon.csv\")\n",
        "\n",
        "grouped = df.groupby(\"Type 1\")[[\"HP\", \"Attack\", \"Defense\", \"Sp. Atk\", \"Sp. Def\", \"Speed\"]].mean()\n",
        "\n",
        "grouped.style.highlight_max(axis=None)"
      ],
      "metadata": {
        "colab": {
          "base_uri": "https://localhost:8080/",
          "height": 645
        },
        "id": "SgzSiQMcW1Wc",
        "outputId": "ab6f7d3a-1505-4aab-e481-0a343b49f73f"
      },
      "execution_count": 4,
      "outputs": [
        {
          "output_type": "execute_result",
          "data": {
            "text/plain": [
              "<pandas.io.formats.style.Styler at 0x7f981cddbcd0>"
            ],
            "text/html": [
              "<style type=\"text/css\">\n",
              "#T_fcbe6_row16_col2 {\n",
              "  background-color: yellow;\n",
              "}\n",
              "</style>\n",
              "<table id=\"T_fcbe6_\" class=\"dataframe\">\n",
              "  <thead>\n",
              "    <tr>\n",
              "      <th class=\"blank level0\" >&nbsp;</th>\n",
              "      <th class=\"col_heading level0 col0\" >HP</th>\n",
              "      <th class=\"col_heading level0 col1\" >Attack</th>\n",
              "      <th class=\"col_heading level0 col2\" >Defense</th>\n",
              "      <th class=\"col_heading level0 col3\" >Sp. Atk</th>\n",
              "      <th class=\"col_heading level0 col4\" >Sp. Def</th>\n",
              "      <th class=\"col_heading level0 col5\" >Speed</th>\n",
              "    </tr>\n",
              "    <tr>\n",
              "      <th class=\"index_name level0\" >Type 1</th>\n",
              "      <th class=\"blank col0\" >&nbsp;</th>\n",
              "      <th class=\"blank col1\" >&nbsp;</th>\n",
              "      <th class=\"blank col2\" >&nbsp;</th>\n",
              "      <th class=\"blank col3\" >&nbsp;</th>\n",
              "      <th class=\"blank col4\" >&nbsp;</th>\n",
              "      <th class=\"blank col5\" >&nbsp;</th>\n",
              "    </tr>\n",
              "  </thead>\n",
              "  <tbody>\n",
              "    <tr>\n",
              "      <th id=\"T_fcbe6_level0_row0\" class=\"row_heading level0 row0\" >Bug</th>\n",
              "      <td id=\"T_fcbe6_row0_col0\" class=\"data row0 col0\" >56.884058</td>\n",
              "      <td id=\"T_fcbe6_row0_col1\" class=\"data row0 col1\" >70.971014</td>\n",
              "      <td id=\"T_fcbe6_row0_col2\" class=\"data row0 col2\" >70.724638</td>\n",
              "      <td id=\"T_fcbe6_row0_col3\" class=\"data row0 col3\" >53.869565</td>\n",
              "      <td id=\"T_fcbe6_row0_col4\" class=\"data row0 col4\" >64.797101</td>\n",
              "      <td id=\"T_fcbe6_row0_col5\" class=\"data row0 col5\" >61.681159</td>\n",
              "    </tr>\n",
              "    <tr>\n",
              "      <th id=\"T_fcbe6_level0_row1\" class=\"row_heading level0 row1\" >Dark</th>\n",
              "      <td id=\"T_fcbe6_row1_col0\" class=\"data row1 col0\" >66.806452</td>\n",
              "      <td id=\"T_fcbe6_row1_col1\" class=\"data row1 col1\" >88.387097</td>\n",
              "      <td id=\"T_fcbe6_row1_col2\" class=\"data row1 col2\" >70.225806</td>\n",
              "      <td id=\"T_fcbe6_row1_col3\" class=\"data row1 col3\" >74.645161</td>\n",
              "      <td id=\"T_fcbe6_row1_col4\" class=\"data row1 col4\" >69.516129</td>\n",
              "      <td id=\"T_fcbe6_row1_col5\" class=\"data row1 col5\" >76.161290</td>\n",
              "    </tr>\n",
              "    <tr>\n",
              "      <th id=\"T_fcbe6_level0_row2\" class=\"row_heading level0 row2\" >Dragon</th>\n",
              "      <td id=\"T_fcbe6_row2_col0\" class=\"data row2 col0\" >83.312500</td>\n",
              "      <td id=\"T_fcbe6_row2_col1\" class=\"data row2 col1\" >112.125000</td>\n",
              "      <td id=\"T_fcbe6_row2_col2\" class=\"data row2 col2\" >86.375000</td>\n",
              "      <td id=\"T_fcbe6_row2_col3\" class=\"data row2 col3\" >96.843750</td>\n",
              "      <td id=\"T_fcbe6_row2_col4\" class=\"data row2 col4\" >88.843750</td>\n",
              "      <td id=\"T_fcbe6_row2_col5\" class=\"data row2 col5\" >83.031250</td>\n",
              "    </tr>\n",
              "    <tr>\n",
              "      <th id=\"T_fcbe6_level0_row3\" class=\"row_heading level0 row3\" >Electric</th>\n",
              "      <td id=\"T_fcbe6_row3_col0\" class=\"data row3 col0\" >59.795455</td>\n",
              "      <td id=\"T_fcbe6_row3_col1\" class=\"data row3 col1\" >69.090909</td>\n",
              "      <td id=\"T_fcbe6_row3_col2\" class=\"data row3 col2\" >66.295455</td>\n",
              "      <td id=\"T_fcbe6_row3_col3\" class=\"data row3 col3\" >90.022727</td>\n",
              "      <td id=\"T_fcbe6_row3_col4\" class=\"data row3 col4\" >73.704545</td>\n",
              "      <td id=\"T_fcbe6_row3_col5\" class=\"data row3 col5\" >84.500000</td>\n",
              "    </tr>\n",
              "    <tr>\n",
              "      <th id=\"T_fcbe6_level0_row4\" class=\"row_heading level0 row4\" >Fairy</th>\n",
              "      <td id=\"T_fcbe6_row4_col0\" class=\"data row4 col0\" >74.117647</td>\n",
              "      <td id=\"T_fcbe6_row4_col1\" class=\"data row4 col1\" >61.529412</td>\n",
              "      <td id=\"T_fcbe6_row4_col2\" class=\"data row4 col2\" >65.705882</td>\n",
              "      <td id=\"T_fcbe6_row4_col3\" class=\"data row4 col3\" >78.529412</td>\n",
              "      <td id=\"T_fcbe6_row4_col4\" class=\"data row4 col4\" >84.705882</td>\n",
              "      <td id=\"T_fcbe6_row4_col5\" class=\"data row4 col5\" >48.588235</td>\n",
              "    </tr>\n",
              "    <tr>\n",
              "      <th id=\"T_fcbe6_level0_row5\" class=\"row_heading level0 row5\" >Fighting</th>\n",
              "      <td id=\"T_fcbe6_row5_col0\" class=\"data row5 col0\" >69.851852</td>\n",
              "      <td id=\"T_fcbe6_row5_col1\" class=\"data row5 col1\" >96.777778</td>\n",
              "      <td id=\"T_fcbe6_row5_col2\" class=\"data row5 col2\" >65.925926</td>\n",
              "      <td id=\"T_fcbe6_row5_col3\" class=\"data row5 col3\" >53.111111</td>\n",
              "      <td id=\"T_fcbe6_row5_col4\" class=\"data row5 col4\" >64.703704</td>\n",
              "      <td id=\"T_fcbe6_row5_col5\" class=\"data row5 col5\" >66.074074</td>\n",
              "    </tr>\n",
              "    <tr>\n",
              "      <th id=\"T_fcbe6_level0_row6\" class=\"row_heading level0 row6\" >Fire</th>\n",
              "      <td id=\"T_fcbe6_row6_col0\" class=\"data row6 col0\" >69.903846</td>\n",
              "      <td id=\"T_fcbe6_row6_col1\" class=\"data row6 col1\" >84.769231</td>\n",
              "      <td id=\"T_fcbe6_row6_col2\" class=\"data row6 col2\" >67.769231</td>\n",
              "      <td id=\"T_fcbe6_row6_col3\" class=\"data row6 col3\" >88.980769</td>\n",
              "      <td id=\"T_fcbe6_row6_col4\" class=\"data row6 col4\" >72.211538</td>\n",
              "      <td id=\"T_fcbe6_row6_col5\" class=\"data row6 col5\" >74.442308</td>\n",
              "    </tr>\n",
              "    <tr>\n",
              "      <th id=\"T_fcbe6_level0_row7\" class=\"row_heading level0 row7\" >Flying</th>\n",
              "      <td id=\"T_fcbe6_row7_col0\" class=\"data row7 col0\" >70.750000</td>\n",
              "      <td id=\"T_fcbe6_row7_col1\" class=\"data row7 col1\" >78.750000</td>\n",
              "      <td id=\"T_fcbe6_row7_col2\" class=\"data row7 col2\" >66.250000</td>\n",
              "      <td id=\"T_fcbe6_row7_col3\" class=\"data row7 col3\" >94.250000</td>\n",
              "      <td id=\"T_fcbe6_row7_col4\" class=\"data row7 col4\" >72.500000</td>\n",
              "      <td id=\"T_fcbe6_row7_col5\" class=\"data row7 col5\" >102.500000</td>\n",
              "    </tr>\n",
              "    <tr>\n",
              "      <th id=\"T_fcbe6_level0_row8\" class=\"row_heading level0 row8\" >Ghost</th>\n",
              "      <td id=\"T_fcbe6_row8_col0\" class=\"data row8 col0\" >64.437500</td>\n",
              "      <td id=\"T_fcbe6_row8_col1\" class=\"data row8 col1\" >73.781250</td>\n",
              "      <td id=\"T_fcbe6_row8_col2\" class=\"data row8 col2\" >81.187500</td>\n",
              "      <td id=\"T_fcbe6_row8_col3\" class=\"data row8 col3\" >79.343750</td>\n",
              "      <td id=\"T_fcbe6_row8_col4\" class=\"data row8 col4\" >76.468750</td>\n",
              "      <td id=\"T_fcbe6_row8_col5\" class=\"data row8 col5\" >64.343750</td>\n",
              "    </tr>\n",
              "    <tr>\n",
              "      <th id=\"T_fcbe6_level0_row9\" class=\"row_heading level0 row9\" >Grass</th>\n",
              "      <td id=\"T_fcbe6_row9_col0\" class=\"data row9 col0\" >67.271429</td>\n",
              "      <td id=\"T_fcbe6_row9_col1\" class=\"data row9 col1\" >73.214286</td>\n",
              "      <td id=\"T_fcbe6_row9_col2\" class=\"data row9 col2\" >70.800000</td>\n",
              "      <td id=\"T_fcbe6_row9_col3\" class=\"data row9 col3\" >77.500000</td>\n",
              "      <td id=\"T_fcbe6_row9_col4\" class=\"data row9 col4\" >70.428571</td>\n",
              "      <td id=\"T_fcbe6_row9_col5\" class=\"data row9 col5\" >61.928571</td>\n",
              "    </tr>\n",
              "    <tr>\n",
              "      <th id=\"T_fcbe6_level0_row10\" class=\"row_heading level0 row10\" >Ground</th>\n",
              "      <td id=\"T_fcbe6_row10_col0\" class=\"data row10 col0\" >73.781250</td>\n",
              "      <td id=\"T_fcbe6_row10_col1\" class=\"data row10 col1\" >95.750000</td>\n",
              "      <td id=\"T_fcbe6_row10_col2\" class=\"data row10 col2\" >84.843750</td>\n",
              "      <td id=\"T_fcbe6_row10_col3\" class=\"data row10 col3\" >56.468750</td>\n",
              "      <td id=\"T_fcbe6_row10_col4\" class=\"data row10 col4\" >62.750000</td>\n",
              "      <td id=\"T_fcbe6_row10_col5\" class=\"data row10 col5\" >63.906250</td>\n",
              "    </tr>\n",
              "    <tr>\n",
              "      <th id=\"T_fcbe6_level0_row11\" class=\"row_heading level0 row11\" >Ice</th>\n",
              "      <td id=\"T_fcbe6_row11_col0\" class=\"data row11 col0\" >72.000000</td>\n",
              "      <td id=\"T_fcbe6_row11_col1\" class=\"data row11 col1\" >72.750000</td>\n",
              "      <td id=\"T_fcbe6_row11_col2\" class=\"data row11 col2\" >71.416667</td>\n",
              "      <td id=\"T_fcbe6_row11_col3\" class=\"data row11 col3\" >77.541667</td>\n",
              "      <td id=\"T_fcbe6_row11_col4\" class=\"data row11 col4\" >76.291667</td>\n",
              "      <td id=\"T_fcbe6_row11_col5\" class=\"data row11 col5\" >63.458333</td>\n",
              "    </tr>\n",
              "    <tr>\n",
              "      <th id=\"T_fcbe6_level0_row12\" class=\"row_heading level0 row12\" >Normal</th>\n",
              "      <td id=\"T_fcbe6_row12_col0\" class=\"data row12 col0\" >77.275510</td>\n",
              "      <td id=\"T_fcbe6_row12_col1\" class=\"data row12 col1\" >73.469388</td>\n",
              "      <td id=\"T_fcbe6_row12_col2\" class=\"data row12 col2\" >59.846939</td>\n",
              "      <td id=\"T_fcbe6_row12_col3\" class=\"data row12 col3\" >55.816327</td>\n",
              "      <td id=\"T_fcbe6_row12_col4\" class=\"data row12 col4\" >63.724490</td>\n",
              "      <td id=\"T_fcbe6_row12_col5\" class=\"data row12 col5\" >71.551020</td>\n",
              "    </tr>\n",
              "    <tr>\n",
              "      <th id=\"T_fcbe6_level0_row13\" class=\"row_heading level0 row13\" >Poison</th>\n",
              "      <td id=\"T_fcbe6_row13_col0\" class=\"data row13 col0\" >67.250000</td>\n",
              "      <td id=\"T_fcbe6_row13_col1\" class=\"data row13 col1\" >74.678571</td>\n",
              "      <td id=\"T_fcbe6_row13_col2\" class=\"data row13 col2\" >68.821429</td>\n",
              "      <td id=\"T_fcbe6_row13_col3\" class=\"data row13 col3\" >60.428571</td>\n",
              "      <td id=\"T_fcbe6_row13_col4\" class=\"data row13 col4\" >64.392857</td>\n",
              "      <td id=\"T_fcbe6_row13_col5\" class=\"data row13 col5\" >63.571429</td>\n",
              "    </tr>\n",
              "    <tr>\n",
              "      <th id=\"T_fcbe6_level0_row14\" class=\"row_heading level0 row14\" >Psychic</th>\n",
              "      <td id=\"T_fcbe6_row14_col0\" class=\"data row14 col0\" >70.631579</td>\n",
              "      <td id=\"T_fcbe6_row14_col1\" class=\"data row14 col1\" >71.456140</td>\n",
              "      <td id=\"T_fcbe6_row14_col2\" class=\"data row14 col2\" >67.684211</td>\n",
              "      <td id=\"T_fcbe6_row14_col3\" class=\"data row14 col3\" >98.403509</td>\n",
              "      <td id=\"T_fcbe6_row14_col4\" class=\"data row14 col4\" >86.280702</td>\n",
              "      <td id=\"T_fcbe6_row14_col5\" class=\"data row14 col5\" >81.491228</td>\n",
              "    </tr>\n",
              "    <tr>\n",
              "      <th id=\"T_fcbe6_level0_row15\" class=\"row_heading level0 row15\" >Rock</th>\n",
              "      <td id=\"T_fcbe6_row15_col0\" class=\"data row15 col0\" >65.363636</td>\n",
              "      <td id=\"T_fcbe6_row15_col1\" class=\"data row15 col1\" >92.863636</td>\n",
              "      <td id=\"T_fcbe6_row15_col2\" class=\"data row15 col2\" >100.795455</td>\n",
              "      <td id=\"T_fcbe6_row15_col3\" class=\"data row15 col3\" >63.340909</td>\n",
              "      <td id=\"T_fcbe6_row15_col4\" class=\"data row15 col4\" >75.477273</td>\n",
              "      <td id=\"T_fcbe6_row15_col5\" class=\"data row15 col5\" >55.909091</td>\n",
              "    </tr>\n",
              "    <tr>\n",
              "      <th id=\"T_fcbe6_level0_row16\" class=\"row_heading level0 row16\" >Steel</th>\n",
              "      <td id=\"T_fcbe6_row16_col0\" class=\"data row16 col0\" >65.222222</td>\n",
              "      <td id=\"T_fcbe6_row16_col1\" class=\"data row16 col1\" >92.703704</td>\n",
              "      <td id=\"T_fcbe6_row16_col2\" class=\"data row16 col2\" >126.370370</td>\n",
              "      <td id=\"T_fcbe6_row16_col3\" class=\"data row16 col3\" >67.518519</td>\n",
              "      <td id=\"T_fcbe6_row16_col4\" class=\"data row16 col4\" >80.629630</td>\n",
              "      <td id=\"T_fcbe6_row16_col5\" class=\"data row16 col5\" >55.259259</td>\n",
              "    </tr>\n",
              "    <tr>\n",
              "      <th id=\"T_fcbe6_level0_row17\" class=\"row_heading level0 row17\" >Water</th>\n",
              "      <td id=\"T_fcbe6_row17_col0\" class=\"data row17 col0\" >72.062500</td>\n",
              "      <td id=\"T_fcbe6_row17_col1\" class=\"data row17 col1\" >74.151786</td>\n",
              "      <td id=\"T_fcbe6_row17_col2\" class=\"data row17 col2\" >72.946429</td>\n",
              "      <td id=\"T_fcbe6_row17_col3\" class=\"data row17 col3\" >74.812500</td>\n",
              "      <td id=\"T_fcbe6_row17_col4\" class=\"data row17 col4\" >70.517857</td>\n",
              "      <td id=\"T_fcbe6_row17_col5\" class=\"data row17 col5\" >65.964286</td>\n",
              "    </tr>\n",
              "  </tbody>\n",
              "</table>\n"
            ]
          },
          "metadata": {},
          "execution_count": 4
        }
      ]
    },
    {
      "cell_type": "markdown",
      "source": [
        "Genera el codigo que responda a los siguientes ejercicios. De ser necesario, investiga cómo se puede hacer.\n",
        "\n",
        "### 1. Modifica la ultima linea de texto para resaltar el dato _minimo_ de toda la tabla."
      ],
      "metadata": {
        "id": "Jn1V7MAmXKlB"
      }
    },
    {
      "cell_type": "code",
      "source": [],
      "metadata": {
        "id": "qWUoKIJjXE6D"
      },
      "execution_count": null,
      "outputs": []
    },
    {
      "cell_type": "markdown",
      "source": [
        "### 2. Resalta de amarillo el dato maximo de cada hilera (fila)."
      ],
      "metadata": {
        "id": "4R_gpDe8Xrrw"
      }
    },
    {
      "cell_type": "code",
      "source": [],
      "metadata": {
        "id": "ArX063-uX9T2"
      },
      "execution_count": null,
      "outputs": []
    },
    {
      "cell_type": "markdown",
      "source": [
        "### 3. Resalta de amarillo el dato minimo de cada columna."
      ],
      "metadata": {
        "id": "DmgTirEUX9sF"
      }
    },
    {
      "cell_type": "code",
      "source": [],
      "metadata": {
        "id": "34VktIyqYDko"
      },
      "execution_count": null,
      "outputs": []
    },
    {
      "cell_type": "markdown",
      "source": [
        "### 4. Aplica `style.background_gradient` en vez de `style.highlight_max`. Observa qué sucede ahora."
      ],
      "metadata": {
        "id": "6edDM1GqXcCY"
      }
    },
    {
      "cell_type": "code",
      "source": [],
      "metadata": {
        "id": "DU7P6tYyXprt"
      },
      "execution_count": null,
      "outputs": []
    },
    {
      "cell_type": "markdown",
      "source": [
        "### 5. Modifica el codigo de tu ejercicio anterior. Cambia el parametro cmap para utilizar otra paleta de colores."
      ],
      "metadata": {
        "id": "qeMaQB_2YJt4"
      }
    },
    {
      "cell_type": "code",
      "source": [],
      "metadata": {
        "id": "W-9nQJ8JYguE"
      },
      "execution_count": null,
      "outputs": []
    }
  ]
}